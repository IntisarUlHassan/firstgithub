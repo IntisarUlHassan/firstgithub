{
 "cells": [
  {
   "cell_type": "markdown",
   "id": "f0e628ab",
   "metadata": {},
   "source": [
    "# - Indexing"
   ]
  },
  {
   "cell_type": "code",
   "execution_count": 85,
   "id": "fe47ad7b",
   "metadata": {},
   "outputs": [
    {
     "data": {
      "text/plain": [
       "\"I'm learning python.\""
      ]
     },
     "execution_count": 85,
     "metadata": {},
     "output_type": "execute_result"
    }
   ],
   "source": [
    "# make a string\n",
    "a=\"I'm learning python.\"\n",
    "a"
   ]
  },
  {
   "cell_type": "code",
   "execution_count": 86,
   "id": "d9c1442a",
   "metadata": {},
   "outputs": [
    {
     "data": {
      "text/plain": [
       "\"I'm learning python.\""
      ]
     },
     "execution_count": 86,
     "metadata": {},
     "output_type": "execute_result"
    }
   ],
   "source": [
    "a"
   ]
  },
  {
   "cell_type": "code",
   "execution_count": 87,
   "id": "f199a2b6",
   "metadata": {},
   "outputs": [
    {
     "data": {
      "text/plain": [
       "'I'"
      ]
     },
     "execution_count": 87,
     "metadata": {},
     "output_type": "execute_result"
    }
   ],
   "source": [
    "a[0]"
   ]
  },
  {
   "cell_type": "code",
   "execution_count": 88,
   "id": "3a7ff3bd",
   "metadata": {},
   "outputs": [
    {
     "data": {
      "text/plain": [
       "\"'\""
      ]
     },
     "execution_count": 88,
     "metadata": {},
     "output_type": "execute_result"
    }
   ],
   "source": [
    "a[1]"
   ]
  },
  {
   "cell_type": "code",
   "execution_count": 89,
   "id": "3eabbe8a",
   "metadata": {},
   "outputs": [
    {
     "data": {
      "text/plain": [
       "' '"
      ]
     },
     "execution_count": 89,
     "metadata": {},
     "output_type": "execute_result"
    }
   ],
   "source": [
    "a[3]"
   ]
  },
  {
   "cell_type": "markdown",
   "id": "d9b0f04f",
   "metadata": {},
   "source": [
    "**Index tells the place of a digit/alphabet in a string.**"
   ]
  },
  {
   "cell_type": "code",
   "execution_count": 90,
   "id": "e47ab07b",
   "metadata": {},
   "outputs": [
    {
     "data": {
      "text/plain": [
       "'g'"
      ]
     },
     "execution_count": 90,
     "metadata": {},
     "output_type": "execute_result"
    }
   ],
   "source": [
    "a[11]"
   ]
  },
  {
   "cell_type": "markdown",
   "id": "4e38c232",
   "metadata": {},
   "source": [
    "**Length of indeces**"
   ]
  },
  {
   "cell_type": "code",
   "execution_count": 91,
   "id": "c2c8e179",
   "metadata": {
    "scrolled": false
   },
   "outputs": [
    {
     "data": {
      "text/plain": [
       "20"
      ]
     },
     "execution_count": 91,
     "metadata": {},
     "output_type": "execute_result"
    }
   ],
   "source": [
    "len (a)"
   ]
  },
  {
   "cell_type": "code",
   "execution_count": 92,
   "id": "67cb4a8d",
   "metadata": {},
   "outputs": [
    {
     "data": {
      "text/plain": [
       "'.'"
      ]
     },
     "execution_count": 92,
     "metadata": {},
     "output_type": "execute_result"
    }
   ],
   "source": [
    "a[19]"
   ]
  },
  {
   "cell_type": "code",
   "execution_count": 93,
   "id": "4b3ab625",
   "metadata": {},
   "outputs": [
    {
     "data": {
      "text/plain": [
       "\"I'm\""
      ]
     },
     "execution_count": 93,
     "metadata": {},
     "output_type": "execute_result"
    }
   ],
   "source": [
    "a[0:3]"
   ]
  },
  {
   "cell_type": "code",
   "execution_count": 94,
   "id": "d34ab983",
   "metadata": {},
   "outputs": [
    {
     "data": {
      "text/plain": [
       "'learning'"
      ]
     },
     "execution_count": 94,
     "metadata": {},
     "output_type": "execute_result"
    }
   ],
   "source": [
    "a[4:12]"
   ]
  },
  {
   "cell_type": "code",
   "execution_count": 95,
   "id": "2d874913",
   "metadata": {},
   "outputs": [
    {
     "data": {
      "text/plain": [
       "'python'"
      ]
     },
     "execution_count": 95,
     "metadata": {},
     "output_type": "execute_result"
    }
   ],
   "source": [
    "a[13:19] #last digit is exclusive"
   ]
  },
  {
   "cell_type": "code",
   "execution_count": 96,
   "id": "e74dacf8",
   "metadata": {},
   "outputs": [
    {
     "data": {
      "text/plain": [
       "\"I'm learning python.\""
      ]
     },
     "execution_count": 96,
     "metadata": {},
     "output_type": "execute_result"
    }
   ],
   "source": [
    "a[0:20]"
   ]
  },
  {
   "cell_type": "code",
   "execution_count": 97,
   "id": "48f6a914",
   "metadata": {},
   "outputs": [
    {
     "data": {
      "text/plain": [
       "'python'"
      ]
     },
     "execution_count": 97,
     "metadata": {},
     "output_type": "execute_result"
    }
   ],
   "source": [
    "a[-7:-1]"
   ]
  },
  {
   "cell_type": "code",
   "execution_count": 98,
   "id": "fcb29438",
   "metadata": {
    "scrolled": true
   },
   "outputs": [
    {
     "data": {
      "text/plain": [
       "'python'"
      ]
     },
     "execution_count": 98,
     "metadata": {},
     "output_type": "execute_result"
    }
   ],
   "source": [
    "a[-7:19]"
   ]
  },
  {
   "cell_type": "markdown",
   "id": "d6f97d42",
   "metadata": {},
   "source": [
    "## String Methods"
   ]
  },
  {
   "cell_type": "code",
   "execution_count": 99,
   "id": "cc2610c3",
   "metadata": {},
   "outputs": [
    {
     "data": {
      "text/plain": [
       "\"you're a good boy.\""
      ]
     },
     "execution_count": 99,
     "metadata": {},
     "output_type": "execute_result"
    }
   ],
   "source": [
    "intisar=\"you're a good boy.\"\n",
    "intisar"
   ]
  },
  {
   "cell_type": "code",
   "execution_count": 100,
   "id": "59b71474",
   "metadata": {},
   "outputs": [
    {
     "data": {
      "text/plain": [
       "\"you're a good boy.\""
      ]
     },
     "execution_count": 100,
     "metadata": {},
     "output_type": "execute_result"
    }
   ],
   "source": [
    "intisar"
   ]
  },
  {
   "cell_type": "code",
   "execution_count": 101,
   "id": "3dd01a2e",
   "metadata": {},
   "outputs": [
    {
     "data": {
      "text/plain": [
       "\"You're a good boy.\""
      ]
     },
     "execution_count": 101,
     "metadata": {},
     "output_type": "execute_result"
    }
   ],
   "source": [
    "#Capitalize the phrase.\n",
    "intisar.capitalize()"
   ]
  },
  {
   "cell_type": "code",
   "execution_count": 102,
   "id": "0cf89540",
   "metadata": {},
   "outputs": [
    {
     "data": {
      "text/plain": [
       "\"YOU'RE A GOOD BOY.\""
      ]
     },
     "execution_count": 102,
     "metadata": {},
     "output_type": "execute_result"
    }
   ],
   "source": [
    "#uppercase all letters/alphabets.\n",
    "intisar.upper()"
   ]
  },
  {
   "cell_type": "code",
   "execution_count": 103,
   "id": "28c422a8",
   "metadata": {},
   "outputs": [
    {
     "data": {
      "text/plain": [
       "\"you're a good boy.\""
      ]
     },
     "execution_count": 103,
     "metadata": {},
     "output_type": "execute_result"
    }
   ],
   "source": [
    "#lowecase all alphabets\n",
    "intisar.lower()"
   ]
  },
  {
   "cell_type": "code",
   "execution_count": 104,
   "id": "286951e7",
   "metadata": {},
   "outputs": [
    {
     "data": {
      "text/plain": [
       "\"you're a good engineer.\""
      ]
     },
     "execution_count": 104,
     "metadata": {},
     "output_type": "execute_result"
    }
   ],
   "source": [
    "#replace words/digits/numbers\n",
    "intisar.replace(\"boy\", \"engineer\")"
   ]
  },
  {
   "cell_type": "code",
   "execution_count": 105,
   "id": "b7fd83ef",
   "metadata": {},
   "outputs": [
    {
     "data": {
      "text/plain": [
       "\"you're a good boy.\""
      ]
     },
     "execution_count": 105,
     "metadata": {},
     "output_type": "execute_result"
    }
   ],
   "source": [
    "intisar"
   ]
  },
  {
   "cell_type": "code",
   "execution_count": 106,
   "id": "dd5a177d",
   "metadata": {},
   "outputs": [
    {
     "data": {
      "text/plain": [
       "4"
      ]
     },
     "execution_count": 106,
     "metadata": {},
     "output_type": "execute_result"
    }
   ],
   "source": [
    "#counting specific number of alphabets in strings\n",
    "intisar.count(\"o\")"
   ]
  },
  {
   "cell_type": "code",
   "execution_count": 107,
   "id": "629881f1",
   "metadata": {},
   "outputs": [
    {
     "data": {
      "text/plain": [
       "1"
      ]
     },
     "execution_count": 107,
     "metadata": {},
     "output_type": "execute_result"
    }
   ],
   "source": [
    "intisar.count('e')"
   ]
  },
  {
   "cell_type": "code",
   "execution_count": 108,
   "id": "d441b1ca",
   "metadata": {},
   "outputs": [
    {
     "data": {
      "text/plain": [
       "1"
      ]
     },
     "execution_count": 108,
     "metadata": {},
     "output_type": "execute_result"
    }
   ],
   "source": [
    "intisar.count('oo')"
   ]
  },
  {
   "cell_type": "code",
   "execution_count": 109,
   "id": "e4526402",
   "metadata": {},
   "outputs": [
    {
     "data": {
      "text/plain": [
       "1"
      ]
     },
     "execution_count": 109,
     "metadata": {},
     "output_type": "execute_result"
    }
   ],
   "source": [
    "intisar.count('good')"
   ]
  },
  {
   "cell_type": "markdown",
   "id": "aa0f3562",
   "metadata": {},
   "source": [
    "### Finding an index number in string"
   ]
  },
  {
   "cell_type": "code",
   "execution_count": 110,
   "id": "b4e8a262",
   "metadata": {},
   "outputs": [
    {
     "data": {
      "text/plain": [
       "\"you're a good boy.\""
      ]
     },
     "execution_count": 110,
     "metadata": {},
     "output_type": "execute_result"
    }
   ],
   "source": [
    "intisar"
   ]
  },
  {
   "cell_type": "code",
   "execution_count": 111,
   "id": "d93b1434",
   "metadata": {},
   "outputs": [
    {
     "data": {
      "text/plain": [
       "5"
      ]
     },
     "execution_count": 111,
     "metadata": {},
     "output_type": "execute_result"
    }
   ],
   "source": [
    "intisar.find('e')"
   ]
  },
  {
   "cell_type": "code",
   "execution_count": 112,
   "id": "a7581211",
   "metadata": {},
   "outputs": [
    {
     "data": {
      "text/plain": [
       "9"
      ]
     },
     "execution_count": 112,
     "metadata": {},
     "output_type": "execute_result"
    }
   ],
   "source": [
    "intisar.find('good')"
   ]
  },
  {
   "cell_type": "markdown",
   "id": "5fefceae",
   "metadata": {},
   "source": [
    "### how to split a string"
   ]
  },
  {
   "cell_type": "code",
   "execution_count": 113,
   "id": "f02b7b42",
   "metadata": {},
   "outputs": [
    {
     "data": {
      "text/plain": [
       "'Intisar is a good, hardworking, honest person.'"
      ]
     },
     "execution_count": 113,
     "metadata": {},
     "output_type": "execute_result"
    }
   ],
   "source": [
    "name=\"Intisar is a good, hardworking, honest person.\"\n",
    "name"
   ]
  },
  {
   "cell_type": "code",
   "execution_count": 114,
   "id": "878876cc",
   "metadata": {
    "scrolled": true
   },
   "outputs": [
    {
     "data": {
      "text/plain": [
       "['Intisar is a good', ' hardworking', ' honest person.']"
      ]
     },
     "execution_count": 114,
     "metadata": {},
     "output_type": "execute_result"
    }
   ],
   "source": [
    "name.split(',')"
   ]
  },
  {
   "cell_type": "code",
   "execution_count": null,
   "id": "2953724e",
   "metadata": {},
   "outputs": [],
   "source": []
  },
  {
   "cell_type": "code",
   "execution_count": null,
   "id": "a9f5bc15",
   "metadata": {},
   "outputs": [],
   "source": []
  },
  {
   "cell_type": "markdown",
   "id": "da37968e",
   "metadata": {},
   "source": [
    "# Basic Data Structures in Python\n",
    "\n",
    "## 1- Tuple\n",
    "\n",
    "## 2- List\n",
    "\n",
    "## 3- Dictionaries\n",
    "\n",
    "## 4- Set\n"
   ]
  },
  {
   "cell_type": "markdown",
   "id": "63608923",
   "metadata": {},
   "source": [
    "## 1- Tuple\n",
    "\n",
    "- ordered collection of elements\n",
    "- enclosed in () round braces/paranthesis\n",
    "- different kind of elements can be stored\n",
    "- once elements are stored, we're unable to change them (unmuteable)"
   ]
  },
  {
   "cell_type": "code",
   "execution_count": 115,
   "id": "1155bc6a",
   "metadata": {},
   "outputs": [
    {
     "data": {
      "text/plain": [
       "(2, 'Hello', True, 2.7)"
      ]
     },
     "execution_count": 115,
     "metadata": {},
     "output_type": "execute_result"
    }
   ],
   "source": [
    "tup1= (2, \"Hello\", True, 2.7)\n",
    "tup1"
   ]
  },
  {
   "cell_type": "code",
   "execution_count": 116,
   "id": "1bf350ff",
   "metadata": {},
   "outputs": [
    {
     "data": {
      "text/plain": [
       "tuple"
      ]
     },
     "execution_count": 116,
     "metadata": {},
     "output_type": "execute_result"
    }
   ],
   "source": [
    "#type of typle\n",
    "type(tup1)"
   ]
  },
  {
   "cell_type": "markdown",
   "id": "c543afbe",
   "metadata": {},
   "source": [
    "### Indexing in Tuple"
   ]
  },
  {
   "cell_type": "code",
   "execution_count": 117,
   "id": "c9213c59",
   "metadata": {},
   "outputs": [
    {
     "data": {
      "text/plain": [
       "(2, 'Hello', True, 2.7)"
      ]
     },
     "execution_count": 117,
     "metadata": {},
     "output_type": "execute_result"
    }
   ],
   "source": [
    "tup1"
   ]
  },
  {
   "cell_type": "code",
   "execution_count": 118,
   "id": "6a10e31b",
   "metadata": {},
   "outputs": [
    {
     "data": {
      "text/plain": [
       "2"
      ]
     },
     "execution_count": 118,
     "metadata": {},
     "output_type": "execute_result"
    }
   ],
   "source": [
    "tup1[0]"
   ]
  },
  {
   "cell_type": "code",
   "execution_count": 119,
   "id": "4a58e35d",
   "metadata": {},
   "outputs": [
    {
     "data": {
      "text/plain": [
       "'Hello'"
      ]
     },
     "execution_count": 119,
     "metadata": {},
     "output_type": "execute_result"
    }
   ],
   "source": [
    "tup1[1]"
   ]
  },
  {
   "cell_type": "code",
   "execution_count": 120,
   "id": "587d9392",
   "metadata": {},
   "outputs": [
    {
     "data": {
      "text/plain": [
       "True"
      ]
     },
     "execution_count": 120,
     "metadata": {},
     "output_type": "execute_result"
    }
   ],
   "source": [
    "tup1[2]"
   ]
  },
  {
   "cell_type": "code",
   "execution_count": 121,
   "id": "48f1f385",
   "metadata": {},
   "outputs": [
    {
     "data": {
      "text/plain": [
       "2.7"
      ]
     },
     "execution_count": 121,
     "metadata": {},
     "output_type": "execute_result"
    }
   ],
   "source": [
    "tup1[3]"
   ]
  },
  {
   "cell_type": "code",
   "execution_count": 122,
   "id": "12a1244e",
   "metadata": {},
   "outputs": [
    {
     "data": {
      "text/plain": [
       "(2, 'Hello', True)"
      ]
     },
     "execution_count": 122,
     "metadata": {},
     "output_type": "execute_result"
    }
   ],
   "source": [
    "#last element is exclusive in indexing\n",
    "tup1[0:3]"
   ]
  },
  {
   "cell_type": "code",
   "execution_count": 123,
   "id": "ccb9b109",
   "metadata": {
    "scrolled": true
   },
   "outputs": [
    {
     "data": {
      "text/plain": [
       "(2, 'Hello', True, 2.7)"
      ]
     },
     "execution_count": 123,
     "metadata": {},
     "output_type": "execute_result"
    }
   ],
   "source": [
    "tup1[0:4]"
   ]
  },
  {
   "cell_type": "code",
   "execution_count": 124,
   "id": "dd9dc016",
   "metadata": {},
   "outputs": [
    {
     "data": {
      "text/plain": [
       "4"
      ]
     },
     "execution_count": 124,
     "metadata": {},
     "output_type": "execute_result"
    }
   ],
   "source": [
    "#number of elements in a tuple\n",
    "len(tup1)"
   ]
  },
  {
   "cell_type": "code",
   "execution_count": 125,
   "id": "24850318",
   "metadata": {},
   "outputs": [
    {
     "data": {
      "text/plain": [
       "(2, 'Hello', True, 2.7)"
      ]
     },
     "execution_count": 125,
     "metadata": {},
     "output_type": "execute_result"
    }
   ],
   "source": [
    "tup1"
   ]
  },
  {
   "cell_type": "code",
   "execution_count": 126,
   "id": "69b2de13",
   "metadata": {},
   "outputs": [
    {
     "data": {
      "text/plain": [
       "(1, 'Intisar', 1.3, False)"
      ]
     },
     "execution_count": 126,
     "metadata": {},
     "output_type": "execute_result"
    }
   ],
   "source": [
    "tup2 = (1, 'Intisar', 1.3, False)\n",
    "tup2"
   ]
  },
  {
   "cell_type": "code",
   "execution_count": 127,
   "id": "c2dfddf8",
   "metadata": {},
   "outputs": [
    {
     "data": {
      "text/plain": [
       "(2, 'Hello', True, 2.7, 1, 'Intisar', 1.3, False)"
      ]
     },
     "execution_count": 127,
     "metadata": {},
     "output_type": "execute_result"
    }
   ],
   "source": [
    "#concatinate (adding 2 or more tuples)\n",
    "tup1+tup2"
   ]
  },
  {
   "cell_type": "code",
   "execution_count": 128,
   "id": "6e85e4ee",
   "metadata": {},
   "outputs": [
    {
     "data": {
      "text/plain": [
       "(2, 'Hello', True, 2.7, 2, 'Hello', True, 2.7, 1, 'Intisar', 1.3, False)"
      ]
     },
     "execution_count": 128,
     "metadata": {},
     "output_type": "execute_result"
    }
   ],
   "source": [
    "#concatinate + repeat\n",
    "tup1*2 + tup2"
   ]
  },
  {
   "cell_type": "code",
   "execution_count": 129,
   "id": "c3d96f0d",
   "metadata": {},
   "outputs": [
    {
     "data": {
      "text/plain": [
       "(15, 32, 18, 24, 32, 40, 43)"
      ]
     },
     "execution_count": 129,
     "metadata": {},
     "output_type": "execute_result"
    }
   ],
   "source": [
    "tup3 = (15, 32, 18, 24, 32, 40, 43)\n",
    "tup3"
   ]
  },
  {
   "cell_type": "code",
   "execution_count": 130,
   "id": "5781a804",
   "metadata": {},
   "outputs": [
    {
     "data": {
      "text/plain": [
       "15"
      ]
     },
     "execution_count": 130,
     "metadata": {},
     "output_type": "execute_result"
    }
   ],
   "source": [
    "min(tup3)"
   ]
  },
  {
   "cell_type": "code",
   "execution_count": 131,
   "id": "0465958d",
   "metadata": {
    "scrolled": true
   },
   "outputs": [
    {
     "data": {
      "text/plain": [
       "43"
      ]
     },
     "execution_count": 131,
     "metadata": {},
     "output_type": "execute_result"
    }
   ],
   "source": [
    "max(tup3)"
   ]
  },
  {
   "cell_type": "code",
   "execution_count": 132,
   "id": "6141bf61",
   "metadata": {},
   "outputs": [
    {
     "data": {
      "text/plain": [
       "(15, 32, 18, 24, 32, 40, 43, 15, 32, 18, 24, 32, 40, 43)"
      ]
     },
     "execution_count": 132,
     "metadata": {},
     "output_type": "execute_result"
    }
   ],
   "source": [
    "tup3*2"
   ]
  },
  {
   "cell_type": "code",
   "execution_count": 133,
   "id": "d55318fa",
   "metadata": {},
   "outputs": [
    {
     "data": {
      "text/plain": [
       "2"
      ]
     },
     "execution_count": 133,
     "metadata": {},
     "output_type": "execute_result"
    }
   ],
   "source": [
    "#count with function\n",
    "tup3.count(32)"
   ]
  },
  {
   "cell_type": "code",
   "execution_count": 134,
   "id": "3e8594de",
   "metadata": {},
   "outputs": [
    {
     "data": {
      "text/plain": [
       "2"
      ]
     },
     "execution_count": 134,
     "metadata": {},
     "output_type": "execute_result"
    }
   ],
   "source": [
    "#index with function\n",
    "tup3.index(18)"
   ]
  },
  {
   "cell_type": "markdown",
   "id": "e93a2251",
   "metadata": {},
   "source": [
    "---"
   ]
  },
  {
   "cell_type": "code",
   "execution_count": null,
   "id": "f95feefc",
   "metadata": {},
   "outputs": [],
   "source": []
  },
  {
   "cell_type": "markdown",
   "id": "b9bfd50d",
   "metadata": {},
   "source": [
    "## 2- List\n",
    "- ordered collection of elements\n",
    "- enclosed in [] square braces/paranthesis\n",
    "- mutable: we can change the values"
   ]
  },
  {
   "cell_type": "code",
   "execution_count": 135,
   "id": "853b6d88",
   "metadata": {
    "scrolled": false
   },
   "outputs": [
    {
     "data": {
      "text/plain": [
       "[2, 'Intisar', True]"
      ]
     },
     "execution_count": 135,
     "metadata": {},
     "output_type": "execute_result"
    }
   ],
   "source": [
    "lst1= [2, 'Intisar', True]\n",
    "lst1"
   ]
  },
  {
   "cell_type": "code",
   "execution_count": 136,
   "id": "40277b29",
   "metadata": {},
   "outputs": [
    {
     "data": {
      "text/plain": [
       "list"
      ]
     },
     "execution_count": 136,
     "metadata": {},
     "output_type": "execute_result"
    }
   ],
   "source": [
    "#type\n",
    "type(lst1)"
   ]
  },
  {
   "cell_type": "code",
   "execution_count": 137,
   "id": "59ae6c86",
   "metadata": {},
   "outputs": [
    {
     "data": {
      "text/plain": [
       "3"
      ]
     },
     "execution_count": 137,
     "metadata": {},
     "output_type": "execute_result"
    }
   ],
   "source": [
    "#length\n",
    "len(lst1)"
   ]
  },
  {
   "cell_type": "code",
   "execution_count": 138,
   "id": "ff0b14fc",
   "metadata": {
    "scrolled": true
   },
   "outputs": [
    {
     "data": {
      "text/plain": [
       "['Intisar', True]"
      ]
     },
     "execution_count": 138,
     "metadata": {},
     "output_type": "execute_result"
    }
   ],
   "source": [
    "#index\n",
    "lst1[1:4]"
   ]
  },
  {
   "cell_type": "code",
   "execution_count": 139,
   "id": "3eb6da2e",
   "metadata": {},
   "outputs": [
    {
     "data": {
      "text/plain": [
       "[3, 35, 'hassan', 'Engineer', 3.14, False]"
      ]
     },
     "execution_count": 139,
     "metadata": {},
     "output_type": "execute_result"
    }
   ],
   "source": [
    "lst2=[3, 35, 'hassan', \"Engineer\", 3.14, False]\n",
    "lst2"
   ]
  },
  {
   "cell_type": "code",
   "execution_count": 140,
   "id": "033bacdb",
   "metadata": {},
   "outputs": [
    {
     "data": {
      "text/plain": [
       "[2, 'Intisar', True, 3, 35, 'hassan', 'Engineer', 3.14, False]"
      ]
     },
     "execution_count": 140,
     "metadata": {},
     "output_type": "execute_result"
    }
   ],
   "source": [
    "#concatinate\n",
    "lst1+lst2"
   ]
  },
  {
   "cell_type": "code",
   "execution_count": 141,
   "id": "0d544061",
   "metadata": {
    "scrolled": true
   },
   "outputs": [
    {
     "data": {
      "text/plain": [
       "[3,\n",
       " 35,\n",
       " 'hassan',\n",
       " 'Engineer',\n",
       " 3.14,\n",
       " False,\n",
       " 3,\n",
       " 35,\n",
       " 'hassan',\n",
       " 'Engineer',\n",
       " 3.14,\n",
       " False]"
      ]
     },
     "execution_count": 141,
     "metadata": {},
     "output_type": "execute_result"
    }
   ],
   "source": [
    "#repeat\n",
    "lst2*2"
   ]
  },
  {
   "cell_type": "code",
   "execution_count": 142,
   "id": "0271ec39",
   "metadata": {},
   "outputs": [
    {
     "data": {
      "text/plain": [
       "[2, 'Intisar', True]"
      ]
     },
     "execution_count": 142,
     "metadata": {},
     "output_type": "execute_result"
    }
   ],
   "source": [
    "lst1"
   ]
  },
  {
   "cell_type": "code",
   "execution_count": 143,
   "id": "60903994",
   "metadata": {},
   "outputs": [
    {
     "data": {
      "text/plain": [
       "[True, 'Intisar', 2]"
      ]
     },
     "execution_count": 143,
     "metadata": {},
     "output_type": "execute_result"
    }
   ],
   "source": [
    "#list data structure is mutable\n",
    "lst1.reverse()\n",
    "lst1"
   ]
  },
  {
   "cell_type": "code",
   "execution_count": 144,
   "id": "28092bcc",
   "metadata": {},
   "outputs": [
    {
     "data": {
      "text/plain": [
       "[True, 'Intisar', 2]"
      ]
     },
     "execution_count": 144,
     "metadata": {},
     "output_type": "execute_result"
    }
   ],
   "source": [
    "lst1"
   ]
  },
  {
   "cell_type": "code",
   "execution_count": 145,
   "id": "d20f3992",
   "metadata": {
    "scrolled": true
   },
   "outputs": [
    {
     "data": {
      "text/plain": [
       "[2, 'Intisar', False]"
      ]
     },
     "execution_count": 145,
     "metadata": {},
     "output_type": "execute_result"
    }
   ],
   "source": [
    "lst1 = [2, 'Intisar', False]\n",
    "lst1"
   ]
  },
  {
   "cell_type": "code",
   "execution_count": 146,
   "id": "68e5ff02",
   "metadata": {},
   "outputs": [
    {
     "data": {
      "text/plain": [
       "[2, 6, 1, 7, 3, 4, 9, 8, 12, 11, 14, 13, 10, 5, 15]"
      ]
     },
     "execution_count": 146,
     "metadata": {},
     "output_type": "execute_result"
    }
   ],
   "source": [
    "lst3=[2,6,1,7,3,4,9,8,12,11,14,13,10,5,15]\n",
    "lst3"
   ]
  },
  {
   "cell_type": "code",
   "execution_count": 147,
   "id": "515f81d4",
   "metadata": {},
   "outputs": [
    {
     "data": {
      "text/plain": [
       "[1, 2, 3, 4, 5, 6, 7, 8, 9, 10, 11, 12, 13, 14, 15]"
      ]
     },
     "execution_count": 147,
     "metadata": {},
     "output_type": "execute_result"
    }
   ],
   "source": [
    "#sorting a list\n",
    "lst3.sort()\n",
    "lst3"
   ]
  },
  {
   "cell_type": "code",
   "execution_count": 148,
   "id": "be1f06d4",
   "metadata": {
    "scrolled": false
   },
   "outputs": [
    {
     "data": {
      "text/plain": [
       "[1,\n",
       " 2,\n",
       " 3,\n",
       " 4,\n",
       " 5,\n",
       " 6,\n",
       " 7,\n",
       " 8,\n",
       " 9,\n",
       " 10,\n",
       " 11,\n",
       " 12,\n",
       " 13,\n",
       " 14,\n",
       " 15,\n",
       " 1,\n",
       " 2,\n",
       " 3,\n",
       " 4,\n",
       " 5,\n",
       " 6,\n",
       " 7,\n",
       " 8,\n",
       " 9,\n",
       " 10,\n",
       " 11,\n",
       " 12,\n",
       " 13,\n",
       " 14,\n",
       " 15]"
      ]
     },
     "execution_count": 148,
     "metadata": {},
     "output_type": "execute_result"
    }
   ],
   "source": [
    "lst3*2"
   ]
  },
  {
   "cell_type": "code",
   "execution_count": 149,
   "id": "7b2079c5",
   "metadata": {},
   "outputs": [
    {
     "data": {
      "text/plain": [
       "[1, 2, 3, 4, 5, 6, 7, 8, 9, 10, 11, 12, 13, 14, 15]"
      ]
     },
     "execution_count": 149,
     "metadata": {},
     "output_type": "execute_result"
    }
   ],
   "source": [
    "lst3"
   ]
  },
  {
   "cell_type": "code",
   "execution_count": 150,
   "id": "12f55a47",
   "metadata": {},
   "outputs": [
    {
     "data": {
      "text/plain": [
       "[1, 2, 3, 4, 5, 6, 7, 8, 9, 10, 11, 12, 13, 14, 15, 'new']"
      ]
     },
     "execution_count": 150,
     "metadata": {},
     "output_type": "execute_result"
    }
   ],
   "source": [
    "lst3.append('new')\n",
    "lst3"
   ]
  },
  {
   "cell_type": "code",
   "execution_count": 151,
   "id": "4034c6e3",
   "metadata": {
    "scrolled": true
   },
   "outputs": [
    {
     "data": {
      "text/plain": [
       "[]"
      ]
     },
     "execution_count": 151,
     "metadata": {},
     "output_type": "execute_result"
    }
   ],
   "source": [
    "lst3.clear()\n",
    "lst3"
   ]
  },
  {
   "cell_type": "code",
   "execution_count": 152,
   "id": "0e2549db",
   "metadata": {},
   "outputs": [
    {
     "data": {
      "text/plain": [
       "[]"
      ]
     },
     "execution_count": 152,
     "metadata": {},
     "output_type": "execute_result"
    }
   ],
   "source": [
    "lst3"
   ]
  },
  {
   "cell_type": "code",
   "execution_count": 153,
   "id": "44f935d9",
   "metadata": {},
   "outputs": [
    {
     "data": {
      "text/plain": [
       "[1, 2, 3, 4, 5.2]"
      ]
     },
     "execution_count": 153,
     "metadata": {},
     "output_type": "execute_result"
    }
   ],
   "source": [
    "lst3=[1, 2, 3, 4, 5.2]\n",
    "lst3"
   ]
  },
  {
   "cell_type": "code",
   "execution_count": 154,
   "id": "72ff906b",
   "metadata": {
    "scrolled": false
   },
   "outputs": [
    {
     "data": {
      "text/plain": [
       "1"
      ]
     },
     "execution_count": 154,
     "metadata": {},
     "output_type": "execute_result"
    }
   ],
   "source": [
    "lst3.count(5.2)"
   ]
  },
  {
   "cell_type": "code",
   "execution_count": 155,
   "id": "74b0682d",
   "metadata": {
    "scrolled": true
   },
   "outputs": [
    {
     "data": {
      "text/plain": [
       "[3, 35, 'hassan', 'Engineer', 3.14, False, 'h', 'a', 's', 's', 'a', 'n']"
      ]
     },
     "execution_count": 155,
     "metadata": {},
     "output_type": "execute_result"
    }
   ],
   "source": [
    "lst2.extend(\"hassan\")\n",
    "lst2"
   ]
  },
  {
   "cell_type": "code",
   "execution_count": 156,
   "id": "818eae99",
   "metadata": {},
   "outputs": [
    {
     "data": {
      "text/plain": [
       "[3, 35, 'hassan', 'Engineer', 3.14, False, 'h', 'a', 's', 's', 'a', 'n']"
      ]
     },
     "execution_count": 156,
     "metadata": {},
     "output_type": "execute_result"
    }
   ],
   "source": [
    "lst2"
   ]
  },
  {
   "cell_type": "code",
   "execution_count": 157,
   "id": "32c503e1",
   "metadata": {},
   "outputs": [
    {
     "data": {
      "text/plain": [
       "2"
      ]
     },
     "execution_count": 157,
     "metadata": {},
     "output_type": "execute_result"
    }
   ],
   "source": [
    "lst2.index('hassan')"
   ]
  },
  {
   "cell_type": "code",
   "execution_count": 158,
   "id": "4e913560",
   "metadata": {
    "scrolled": true
   },
   "outputs": [
    {
     "data": {
      "text/plain": [
       "[3, 35, 'hassan', 'Engineer', 3.14, False]"
      ]
     },
     "execution_count": 158,
     "metadata": {},
     "output_type": "execute_result"
    }
   ],
   "source": [
    "lst2=[3,35, 'hassan', 'Engineer', 3.14, False,]\n",
    "lst2"
   ]
  },
  {
   "cell_type": "code",
   "execution_count": 159,
   "id": "5208361c",
   "metadata": {},
   "outputs": [
    {
     "data": {
      "text/plain": [
       "[3, 35, 'new', 'hassan', 'Engineer', 3.14, False]"
      ]
     },
     "execution_count": 159,
     "metadata": {},
     "output_type": "execute_result"
    }
   ],
   "source": [
    "#insert add a new element at a specific index.\n",
    "lst2.insert(2, 'new')\n",
    "lst2"
   ]
  },
  {
   "cell_type": "code",
   "execution_count": 160,
   "id": "e9edda37",
   "metadata": {
    "scrolled": false
   },
   "outputs": [
    {
     "data": {
      "text/plain": [
       "[3, 35, 'hassan', 'Engineer', 3.14, False]"
      ]
     },
     "execution_count": 160,
     "metadata": {},
     "output_type": "execute_result"
    }
   ],
   "source": [
    "#remove the element at the specific index\n",
    "lst2.pop(2)\n",
    "lst2"
   ]
  },
  {
   "cell_type": "code",
   "execution_count": 161,
   "id": "0d658423",
   "metadata": {},
   "outputs": [
    {
     "data": {
      "text/plain": [
       "[3, 35, 'hassan', 3.14, False]"
      ]
     },
     "execution_count": 161,
     "metadata": {},
     "output_type": "execute_result"
    }
   ],
   "source": [
    "lst2.remove('Engineer')\n",
    "lst2"
   ]
  },
  {
   "cell_type": "code",
   "execution_count": 162,
   "id": "51e0f243",
   "metadata": {},
   "outputs": [
    {
     "data": {
      "text/plain": [
       "[False, 3.14, 'hassan', 35, 3]"
      ]
     },
     "execution_count": 162,
     "metadata": {},
     "output_type": "execute_result"
    }
   ],
   "source": [
    "lst2.reverse()\n",
    "lst2"
   ]
  },
  {
   "cell_type": "markdown",
   "id": "1fa6e3e8",
   "metadata": {},
   "source": [
    "## 3- Dictionaries\n",
    "- an unordered collection of elements\n",
    "- key and value\n",
    "- curly braces/paranthesis {}\n",
    "- mutable/ values can be changed"
   ]
  },
  {
   "cell_type": "code",
   "execution_count": 164,
   "id": "b60d9bff",
   "metadata": {},
   "outputs": [
    {
     "data": {
      "text/plain": [
       "{'flour': 150, 'sugar': 180, 'rice': 230, 'corn': 440, 'oil': 560, 'soap': 125}"
      ]
     },
     "execution_count": 164,
     "metadata": {},
     "output_type": "execute_result"
    }
   ],
   "source": [
    "#suppose there's a price list\n",
    "#items and their prices\n",
    "items={'flour':150, 'sugar':180, 'rice':230, 'corn':440, 'oil':560, 'soap':125}\n",
    "items"
   ]
  },
  {
   "cell_type": "code",
   "execution_count": 165,
   "id": "6684eaa9",
   "metadata": {},
   "outputs": [
    {
     "data": {
      "text/plain": [
       "dict"
      ]
     },
     "execution_count": 165,
     "metadata": {},
     "output_type": "execute_result"
    }
   ],
   "source": [
    "type(items)"
   ]
  },
  {
   "cell_type": "code",
   "execution_count": 166,
   "id": "a35df125",
   "metadata": {},
   "outputs": [
    {
     "data": {
      "text/plain": [
       "6"
      ]
     },
     "execution_count": 166,
     "metadata": {},
     "output_type": "execute_result"
    }
   ],
   "source": [
    "len(items)"
   ]
  },
  {
   "cell_type": "markdown",
   "id": "3b468605",
   "metadata": {},
   "source": [
    "### Extract Data"
   ]
  },
  {
   "cell_type": "code",
   "execution_count": 167,
   "id": "3db9edb3",
   "metadata": {},
   "outputs": [
    {
     "data": {
      "text/plain": [
       "dict_keys(['flour', 'sugar', 'rice', 'corn', 'oil', 'soap'])"
      ]
     },
     "execution_count": 167,
     "metadata": {},
     "output_type": "execute_result"
    }
   ],
   "source": [
    "#Extract keys\n",
    "items.keys()"
   ]
  },
  {
   "cell_type": "code",
   "execution_count": 168,
   "id": "e97f4b2c",
   "metadata": {},
   "outputs": [
    {
     "data": {
      "text/plain": [
       "dict_keys(['flour', 'sugar', 'rice', 'corn', 'oil', 'soap'])"
      ]
     },
     "execution_count": 168,
     "metadata": {},
     "output_type": "execute_result"
    }
   ],
   "source": [
    "#2nd way\n",
    "keys1= items.keys()\n",
    "keys1"
   ]
  },
  {
   "cell_type": "code",
   "execution_count": 169,
   "id": "7a01e1a0",
   "metadata": {},
   "outputs": [
    {
     "data": {
      "text/plain": [
       "dict_values([150, 180, 230, 440, 560, 125])"
      ]
     },
     "execution_count": 169,
     "metadata": {},
     "output_type": "execute_result"
    }
   ],
   "source": [
    "#extract values\n",
    "items.values()"
   ]
  },
  {
   "cell_type": "code",
   "execution_count": 170,
   "id": "87da6a05",
   "metadata": {
    "scrolled": false
   },
   "outputs": [
    {
     "data": {
      "text/plain": [
       "dict_values([150, 180, 230, 440, 560, 125])"
      ]
     },
     "execution_count": 170,
     "metadata": {},
     "output_type": "execute_result"
    }
   ],
   "source": [
    "values1= items.values()\n",
    "values1"
   ]
  },
  {
   "cell_type": "code",
   "execution_count": 171,
   "id": "ca8b6242",
   "metadata": {
    "scrolled": true
   },
   "outputs": [
    {
     "data": {
      "text/plain": [
       "{'flour': 150,\n",
       " 'sugar': 180,\n",
       " 'rice': 230,\n",
       " 'corn': 440,\n",
       " 'oil': 560,\n",
       " 'soap': 125,\n",
       " 'paste': 170}"
      ]
     },
     "execution_count": 171,
     "metadata": {},
     "output_type": "execute_result"
    }
   ],
   "source": [
    "#Mutable (adding new item)\n",
    "items['paste']=170\n",
    "items"
   ]
  },
  {
   "cell_type": "code",
   "execution_count": 172,
   "id": "15e47205",
   "metadata": {
    "scrolled": true
   },
   "outputs": [
    {
     "data": {
      "text/plain": [
       "{'flour': 150,\n",
       " 'sugar': 180,\n",
       " 'rice': 230,\n",
       " 'corn': 440,\n",
       " 'oil': 560,\n",
       " 'soap': 125,\n",
       " 'paste': 185}"
      ]
     },
     "execution_count": 172,
     "metadata": {},
     "output_type": "execute_result"
    }
   ],
   "source": [
    "#update the value\n",
    "\n",
    "items['paste']=185\n",
    "items"
   ]
  },
  {
   "cell_type": "code",
   "execution_count": 173,
   "id": "82180ffe",
   "metadata": {},
   "outputs": [
    {
     "data": {
      "text/plain": [
       "{'samosa': 30,\n",
       " 'raita': 20,\n",
       " 'pakora': 100,\n",
       " 'salad': 50,\n",
       " 'chicken roll': 30,\n",
       " 'tikki': 15}"
      ]
     },
     "execution_count": 173,
     "metadata": {},
     "output_type": "execute_result"
    }
   ],
   "source": [
    "food1={'samosa':30, 'raita':20, 'pakora':100, 'salad':50, 'chicken roll':30, 'tikki':15}\n",
    "food1"
   ]
  },
  {
   "cell_type": "code",
   "execution_count": 174,
   "id": "16097606",
   "metadata": {},
   "outputs": [
    {
     "data": {
      "text/plain": [
       "{'dates': 50, 'chocolates': 200, 'swayyan': 1000}"
      ]
     },
     "execution_count": 174,
     "metadata": {},
     "output_type": "execute_result"
    }
   ],
   "source": [
    "food2={'dates':50, 'chocolates':200, 'swayyan':1000}\n",
    "food2"
   ]
  },
  {
   "cell_type": "code",
   "execution_count": 175,
   "id": "b75bf1e8",
   "metadata": {
    "scrolled": true
   },
   "outputs": [
    {
     "data": {
      "text/plain": [
       "{'samosa': 30,\n",
       " 'raita': 20,\n",
       " 'pakora': 100,\n",
       " 'salad': 50,\n",
       " 'chicken roll': 30,\n",
       " 'tikki': 15,\n",
       " 'dates': 50,\n",
       " 'chocolates': 200,\n",
       " 'swayyan': 1000}"
      ]
     },
     "execution_count": 175,
     "metadata": {},
     "output_type": "execute_result"
    }
   ],
   "source": [
    "#concatinate need to use update function instead of food1 + food2\n",
    "food1.update(food2)\n",
    "food1"
   ]
  },
  {
   "cell_type": "code",
   "execution_count": 176,
   "id": "1a444bb4",
   "metadata": {},
   "outputs": [
    {
     "data": {
      "text/plain": [
       "{'samosa': 30,\n",
       " 'raita': 20,\n",
       " 'pakora': 100,\n",
       " 'salad': 50,\n",
       " 'chicken roll': 30,\n",
       " 'tikki': 15}"
      ]
     },
     "execution_count": 176,
     "metadata": {},
     "output_type": "execute_result"
    }
   ],
   "source": [
    "food1= {'samosa': 30, 'raita': 20, 'pakora': 100, 'salad': 50, 'chicken roll': 30, 'tikki': 15}\n",
    "food1"
   ]
  },
  {
   "cell_type": "code",
   "execution_count": 177,
   "id": "e25660aa",
   "metadata": {},
   "outputs": [
    {
     "data": {
      "text/plain": [
       "{'dates': 50, 'chocolates': 200, 'swayyan': 1000}"
      ]
     },
     "execution_count": 177,
     "metadata": {},
     "output_type": "execute_result"
    }
   ],
   "source": [
    "food2 = {'dates': 50, 'chocolates': 200, 'swayyan': 1000}\n",
    "food2"
   ]
  },
  {
   "cell_type": "code",
   "execution_count": 178,
   "id": "568e4e2a",
   "metadata": {},
   "outputs": [
    {
     "data": {
      "text/plain": [
       "{}"
      ]
     },
     "execution_count": 178,
     "metadata": {},
     "output_type": "execute_result"
    }
   ],
   "source": [
    "food2.clear()\n",
    "food2"
   ]
  },
  {
   "cell_type": "code",
   "execution_count": 179,
   "id": "1a899a4a",
   "metadata": {},
   "outputs": [
    {
     "data": {
      "text/plain": [
       "{'dates': 50, 'chocolates': 200, 'swayyan': 1000}"
      ]
     },
     "execution_count": 179,
     "metadata": {},
     "output_type": "execute_result"
    }
   ],
   "source": [
    "food2 = {'dates': 50, 'chocolates': 200, 'swayyan': 1000}\n",
    "food2"
   ]
  },
  {
   "cell_type": "code",
   "execution_count": 180,
   "id": "fa5b009e",
   "metadata": {},
   "outputs": [
    {
     "data": {
      "text/plain": [
       "{'dates': 50, 'chocolates': 200, 'swayyan': 1000}"
      ]
     },
     "execution_count": 180,
     "metadata": {},
     "output_type": "execute_result"
    }
   ],
   "source": [
    "food2 = {'dates': 50, 'chocolates': 200, 'swayyan': 1000}\n",
    "\n",
    "food3= food2.copy()\n",
    "food3"
   ]
  },
  {
   "cell_type": "code",
   "execution_count": 181,
   "id": "75f4bd87",
   "metadata": {},
   "outputs": [
    {
     "data": {
      "text/plain": [
       "{'chocolates': {'100', '200', '50'},\n",
       " 'swayan': {'100', '200', '50'},\n",
       " 'dates': {'100', '200', '50'}}"
      ]
     },
     "execution_count": 181,
     "metadata": {},
     "output_type": "execute_result"
    }
   ],
   "source": [
    "a={'dates', 'chocolates', 'swayan'}\n",
    "b={'50', '200', '100'}\n",
    "food2=food3.fromkeys(a, b)\n",
    "food2"
   ]
  },
  {
   "cell_type": "code",
   "execution_count": 182,
   "id": "f59a37d4",
   "metadata": {},
   "outputs": [
    {
     "data": {
      "text/plain": [
       "{'dates': 50, 'chocolates': 200, 'swayyan': 1000}"
      ]
     },
     "execution_count": 182,
     "metadata": {},
     "output_type": "execute_result"
    }
   ],
   "source": [
    "food2 = {'dates':50, 'chocolates':200, 'swayyan':1000}\n",
    "food2"
   ]
  },
  {
   "cell_type": "code",
   "execution_count": 183,
   "id": "d4179bb9",
   "metadata": {},
   "outputs": [
    {
     "data": {
      "text/plain": [
       "50"
      ]
     },
     "execution_count": 183,
     "metadata": {},
     "output_type": "execute_result"
    }
   ],
   "source": [
    "food2.get('dates')"
   ]
  },
  {
   "cell_type": "code",
   "execution_count": 184,
   "id": "07cf5dd0",
   "metadata": {},
   "outputs": [
    {
     "data": {
      "text/plain": [
       "{'dates': 50, 'chocolates': 200, 'swayyan': 1000}"
      ]
     },
     "execution_count": 184,
     "metadata": {},
     "output_type": "execute_result"
    }
   ],
   "source": [
    "food2.items()\n",
    "food2"
   ]
  },
  {
   "cell_type": "code",
   "execution_count": 185,
   "id": "c3d65332",
   "metadata": {},
   "outputs": [
    {
     "data": {
      "text/plain": [
       "dict_keys(['dates', 'chocolates', 'swayyan'])"
      ]
     },
     "execution_count": 185,
     "metadata": {},
     "output_type": "execute_result"
    }
   ],
   "source": [
    "food2.keys()"
   ]
  },
  {
   "cell_type": "code",
   "execution_count": 186,
   "id": "044f0368",
   "metadata": {},
   "outputs": [
    {
     "data": {
      "text/plain": [
       "1000"
      ]
     },
     "execution_count": 186,
     "metadata": {},
     "output_type": "execute_result"
    }
   ],
   "source": [
    "food2.pop('swayyan')"
   ]
  },
  {
   "cell_type": "code",
   "execution_count": 187,
   "id": "416bd63c",
   "metadata": {
    "scrolled": true
   },
   "outputs": [
    {
     "data": {
      "text/plain": [
       "{'dates': 50, 'chocolates': 200, 'swayyan': 1000}"
      ]
     },
     "execution_count": 187,
     "metadata": {},
     "output_type": "execute_result"
    }
   ],
   "source": [
    "food2 = {'dates':50, 'chocolates':200, 'swayyan':1000}\n",
    "food2"
   ]
  },
  {
   "cell_type": "code",
   "execution_count": 188,
   "id": "c1c44849",
   "metadata": {},
   "outputs": [
    {
     "data": {
      "text/plain": [
       "('swayyan', 1000)"
      ]
     },
     "execution_count": 188,
     "metadata": {},
     "output_type": "execute_result"
    }
   ],
   "source": [
    "food2.popitem()"
   ]
  },
  {
   "cell_type": "code",
   "execution_count": 189,
   "id": "533bc284",
   "metadata": {},
   "outputs": [
    {
     "data": {
      "text/plain": [
       "('chocolates', 200)"
      ]
     },
     "execution_count": 189,
     "metadata": {},
     "output_type": "execute_result"
    }
   ],
   "source": [
    "food2.popitem()"
   ]
  },
  {
   "cell_type": "code",
   "execution_count": 190,
   "id": "a76db869",
   "metadata": {},
   "outputs": [
    {
     "data": {
      "text/plain": [
       "{'dates': 50, 'chocolates': 200, 'swayyan': 1000}"
      ]
     },
     "execution_count": 190,
     "metadata": {},
     "output_type": "execute_result"
    }
   ],
   "source": [
    "food2 = {'dates':50, 'chocolates':200, 'swayyan':1000}\n",
    "food2"
   ]
  },
  {
   "cell_type": "code",
   "execution_count": 191,
   "id": "89ac67e3",
   "metadata": {},
   "outputs": [
    {
     "data": {
      "text/plain": [
       "200"
      ]
     },
     "execution_count": 191,
     "metadata": {},
     "output_type": "execute_result"
    }
   ],
   "source": [
    "food2.setdefault('chocolates')"
   ]
  },
  {
   "cell_type": "code",
   "execution_count": 192,
   "id": "d9eec717",
   "metadata": {},
   "outputs": [
    {
     "data": {
      "text/plain": [
       "{'dates': 50, 'chocolates': 200, 'swayyan': 1000}"
      ]
     },
     "execution_count": 192,
     "metadata": {},
     "output_type": "execute_result"
    }
   ],
   "source": [
    "food2"
   ]
  },
  {
   "cell_type": "code",
   "execution_count": 193,
   "id": "ec2c23c6",
   "metadata": {
    "scrolled": true
   },
   "outputs": [
    {
     "ename": "SyntaxError",
     "evalue": "invalid syntax (2993563204.py, line 1)",
     "output_type": "error",
     "traceback": [
      "\u001b[1;36m  Cell \u001b[1;32mIn[193], line 1\u001b[1;36m\u001b[0m\n\u001b[1;33m    food2.update('yellow'; 220)\u001b[0m\n\u001b[1;37m                         ^\u001b[0m\n\u001b[1;31mSyntaxError\u001b[0m\u001b[1;31m:\u001b[0m invalid syntax\n"
     ]
    }
   ],
   "source": [
    "food2.update('yellow'; 220)"
   ]
  },
  {
   "cell_type": "code",
   "execution_count": 194,
   "id": "42794b09",
   "metadata": {},
   "outputs": [
    {
     "data": {
      "text/plain": [
       "dict_values([50, 200, 1000])"
      ]
     },
     "execution_count": 194,
     "metadata": {},
     "output_type": "execute_result"
    }
   ],
   "source": [
    "food2.values()"
   ]
  },
  {
   "cell_type": "markdown",
   "id": "a5dff266",
   "metadata": {},
   "source": [
    "## 4- Set\n",
    "- unordered and unindexed\n",
    "- curly braces used { }\n",
    "- no duplicates allowed"
   ]
  },
  {
   "cell_type": "code",
   "execution_count": 195,
   "id": "4fadf9ae",
   "metadata": {},
   "outputs": [
    {
     "data": {
      "text/plain": [
       "{2, 2.5, 3.9, 'FSD', 'Hassan', True, 'hello'}"
      ]
     },
     "execution_count": 195,
     "metadata": {},
     "output_type": "execute_result"
    }
   ],
   "source": [
    "set1={2, 2.5, 3.9, 'hello', 'FSD', True, 'Hassan'}\n",
    "set1"
   ]
  },
  {
   "cell_type": "code",
   "execution_count": 196,
   "id": "1cc9cfdd",
   "metadata": {
    "scrolled": true
   },
   "outputs": [
    {
     "data": {
      "text/plain": [
       "{2, 2.5, 3.9, 'FSD', 'Hassan', 'Intisar', True, 'hello'}"
      ]
     },
     "execution_count": 196,
     "metadata": {},
     "output_type": "execute_result"
    }
   ],
   "source": [
    "#adding an element\n",
    "set1.add(\"Intisar\")\n",
    "set1"
   ]
  },
  {
   "cell_type": "code",
   "execution_count": 197,
   "id": "9e779d82",
   "metadata": {},
   "outputs": [
    {
     "data": {
      "text/plain": [
       "{2, 2.5, 3.9, 'FSD', 'Hassan', 'Intisar', True, 'hello'}"
      ]
     },
     "execution_count": 197,
     "metadata": {},
     "output_type": "execute_result"
    }
   ],
   "source": [
    "#no duplicate allowed\n",
    "set1.add('Hassan')\n",
    "set1"
   ]
  },
  {
   "cell_type": "code",
   "execution_count": 198,
   "id": "d3f0a6c1",
   "metadata": {
    "scrolled": true
   },
   "outputs": [
    {
     "data": {
      "text/plain": [
       "{2, 2.5, 3.9, 'FSD', 'Hassan', True, 'hello'}"
      ]
     },
     "execution_count": 198,
     "metadata": {},
     "output_type": "execute_result"
    }
   ],
   "source": [
    "#remove an element\n",
    "set1.remove('Intisar')\n",
    "set1"
   ]
  },
  {
   "cell_type": "code",
   "execution_count": 199,
   "id": "671e5c1c",
   "metadata": {},
   "outputs": [
    {
     "data": {
      "text/plain": [
       "{2, 2.5, 3.9, 'FSD', 'Hassan', True, 'hello', 'intisar'}"
      ]
     },
     "execution_count": 199,
     "metadata": {},
     "output_type": "execute_result"
    }
   ],
   "source": [
    "set1.add('intisar')\n",
    "set1"
   ]
  },
  {
   "cell_type": "code",
   "execution_count": 200,
   "id": "6d2ff276",
   "metadata": {
    "scrolled": true
   },
   "outputs": [
    {
     "data": {
      "text/plain": [
       "set()"
      ]
     },
     "execution_count": 200,
     "metadata": {},
     "output_type": "execute_result"
    }
   ],
   "source": [
    "set1.clear()\n",
    "set1"
   ]
  },
  {
   "cell_type": "code",
   "execution_count": 201,
   "id": "ac8309fe",
   "metadata": {},
   "outputs": [
    {
     "data": {
      "text/plain": [
       "{2, 2.5, 3.9, 'Hassan', True, 'intisar'}"
      ]
     },
     "execution_count": 201,
     "metadata": {},
     "output_type": "execute_result"
    }
   ],
   "source": [
    "set1={2, 2.5, 3.9, 'Hassan', True, 'intisar'}\n",
    "set1"
   ]
  },
  {
   "cell_type": "code",
   "execution_count": 202,
   "id": "2bc5e70c",
   "metadata": {
    "scrolled": true
   },
   "outputs": [
    {
     "data": {
      "text/plain": [
       "{2, 2.5, 3.9, 'Hassan', True, 'intisar'}"
      ]
     },
     "execution_count": 202,
     "metadata": {},
     "output_type": "execute_result"
    }
   ],
   "source": [
    "set1.copy()"
   ]
  },
  {
   "cell_type": "code",
   "execution_count": 203,
   "id": "5e991ae0",
   "metadata": {},
   "outputs": [
    {
     "data": {
      "text/plain": [
       "{3.9, 'Hassan', 'intisar'}"
      ]
     },
     "execution_count": 203,
     "metadata": {},
     "output_type": "execute_result"
    }
   ],
   "source": [
    "set2={'Hassan', 'intisar', 3.9}\n",
    "set2"
   ]
  },
  {
   "cell_type": "code",
   "execution_count": 204,
   "id": "b98f8476",
   "metadata": {},
   "outputs": [
    {
     "data": {
      "text/plain": [
       "{True, 2, 2.5}"
      ]
     },
     "execution_count": 204,
     "metadata": {},
     "output_type": "execute_result"
    }
   ],
   "source": [
    "set3=set1.difference(set2)\n",
    "set3"
   ]
  },
  {
   "cell_type": "code",
   "execution_count": 205,
   "id": "223057e1",
   "metadata": {},
   "outputs": [],
   "source": [
    "set3={2,3,7,11,13}\n",
    "set4={2,7,13,17,19}\n",
    "set3.difference_update(set4)"
   ]
  },
  {
   "cell_type": "code",
   "execution_count": 206,
   "id": "0a67d187",
   "metadata": {},
   "outputs": [
    {
     "data": {
      "text/plain": [
       "{2, 2.5, 'Hassan', True, 'intisar'}"
      ]
     },
     "execution_count": 206,
     "metadata": {},
     "output_type": "execute_result"
    }
   ],
   "source": [
    "set1.discard(3.9)\n",
    "set1"
   ]
  },
  {
   "cell_type": "code",
   "execution_count": 207,
   "id": "a70d22b3",
   "metadata": {},
   "outputs": [
    {
     "data": {
      "text/plain": [
       "{2, 2.5, 3.9, 'FSD', 'Hassan', 'intisar'}"
      ]
     },
     "execution_count": 207,
     "metadata": {},
     "output_type": "execute_result"
    }
   ],
   "source": [
    "set1={2, 2.5, 3.9, 'Hassan', 'FSD', 'intisar'}\n",
    "set1"
   ]
  },
  {
   "cell_type": "code",
   "execution_count": 208,
   "id": "4b289d12",
   "metadata": {},
   "outputs": [
    {
     "data": {
      "text/plain": [
       "{3.9, 'Hassan', 'intisar'}"
      ]
     },
     "execution_count": 208,
     "metadata": {},
     "output_type": "execute_result"
    }
   ],
   "source": [
    "set2"
   ]
  },
  {
   "cell_type": "code",
   "execution_count": 209,
   "id": "1816cd79",
   "metadata": {},
   "outputs": [
    {
     "data": {
      "text/plain": [
       "{2, 3.9, 'intisar'}"
      ]
     },
     "execution_count": 209,
     "metadata": {},
     "output_type": "execute_result"
    }
   ],
   "source": [
    "set2={2, 3.9, 'intisar'}\n",
    "set2"
   ]
  },
  {
   "cell_type": "code",
   "execution_count": 210,
   "id": "a35114a3",
   "metadata": {},
   "outputs": [
    {
     "data": {
      "text/plain": [
       "{2, 3.9, 'intisar'}"
      ]
     },
     "execution_count": 210,
     "metadata": {},
     "output_type": "execute_result"
    }
   ],
   "source": [
    "set1.intersection(set2)"
   ]
  },
  {
   "cell_type": "code",
   "execution_count": 211,
   "id": "f7c881d3",
   "metadata": {},
   "outputs": [],
   "source": [
    "set1.intersection_update(set2)"
   ]
  },
  {
   "cell_type": "code",
   "execution_count": 212,
   "id": "7a8da04c",
   "metadata": {},
   "outputs": [
    {
     "data": {
      "text/plain": [
       "False"
      ]
     },
     "execution_count": 212,
     "metadata": {},
     "output_type": "execute_result"
    }
   ],
   "source": [
    "#disjoint sets are those with no common element\n",
    "set1.isdisjoint(set2)"
   ]
  },
  {
   "cell_type": "code",
   "execution_count": 213,
   "id": "ac47b0d4",
   "metadata": {},
   "outputs": [
    {
     "data": {
      "text/plain": [
       "True"
      ]
     },
     "execution_count": 213,
     "metadata": {},
     "output_type": "execute_result"
    }
   ],
   "source": [
    "#subset tells if there are common elements in each set\n",
    "set1.issubset(set2)"
   ]
  },
  {
   "cell_type": "code",
   "execution_count": 214,
   "id": "22bfb76b",
   "metadata": {},
   "outputs": [
    {
     "data": {
      "text/plain": [
       "True"
      ]
     },
     "execution_count": 214,
     "metadata": {},
     "output_type": "execute_result"
    }
   ],
   "source": [
    "set1.issuperset(set2)"
   ]
  },
  {
   "cell_type": "code",
   "execution_count": 215,
   "id": "89f7f620",
   "metadata": {},
   "outputs": [
    {
     "data": {
      "text/plain": [
       "{2, 3.9, 'intisar'}"
      ]
     },
     "execution_count": 215,
     "metadata": {},
     "output_type": "execute_result"
    }
   ],
   "source": [
    "set1"
   ]
  },
  {
   "cell_type": "code",
   "execution_count": 216,
   "id": "166085f0",
   "metadata": {},
   "outputs": [
    {
     "data": {
      "text/plain": [
       "{2, 3.9, 'intisar'}"
      ]
     },
     "execution_count": 216,
     "metadata": {},
     "output_type": "execute_result"
    }
   ],
   "source": [
    "set2"
   ]
  },
  {
   "cell_type": "code",
   "execution_count": 217,
   "id": "bd38c41f",
   "metadata": {},
   "outputs": [
    {
     "data": {
      "text/plain": [
       "{2, 2.5, 3.9, 'Hassan', 'intisar'}"
      ]
     },
     "execution_count": 217,
     "metadata": {},
     "output_type": "execute_result"
    }
   ],
   "source": [
    "set1={2, 2.5, 3.9, 'Hassan', 'intisar'}\n",
    "set1"
   ]
  },
  {
   "cell_type": "code",
   "execution_count": 218,
   "id": "88d655e6",
   "metadata": {
    "scrolled": false
   },
   "outputs": [
    {
     "data": {
      "text/plain": [
       "2.5"
      ]
     },
     "execution_count": 218,
     "metadata": {},
     "output_type": "execute_result"
    }
   ],
   "source": [
    "set1.pop()"
   ]
  },
  {
   "cell_type": "code",
   "execution_count": 219,
   "id": "06184075",
   "metadata": {},
   "outputs": [
    {
     "data": {
      "text/plain": [
       "{2, 2.5, 3.9, 'Hassan', 'intisar'}"
      ]
     },
     "execution_count": 219,
     "metadata": {},
     "output_type": "execute_result"
    }
   ],
   "source": [
    "set1={2, 2.5, 3.9, 'Hassan', 'intisar'}\n",
    "set1"
   ]
  },
  {
   "cell_type": "code",
   "execution_count": 220,
   "id": "00f96630",
   "metadata": {},
   "outputs": [
    {
     "data": {
      "text/plain": [
       "{2, 2.5, 3.9, 'intisar'}"
      ]
     },
     "execution_count": 220,
     "metadata": {},
     "output_type": "execute_result"
    }
   ],
   "source": [
    "set1.remove('Hassan')\n",
    "set1"
   ]
  },
  {
   "cell_type": "code",
   "execution_count": 221,
   "id": "6445c782",
   "metadata": {},
   "outputs": [
    {
     "data": {
      "text/plain": [
       "{3, 11}"
      ]
     },
     "execution_count": 221,
     "metadata": {},
     "output_type": "execute_result"
    }
   ],
   "source": [
    "set3"
   ]
  },
  {
   "cell_type": "code",
   "execution_count": 222,
   "id": "8949ca94",
   "metadata": {},
   "outputs": [
    {
     "data": {
      "text/plain": [
       "{2, 7, 13, 17, 19}"
      ]
     },
     "execution_count": 222,
     "metadata": {},
     "output_type": "execute_result"
    }
   ],
   "source": [
    "set4"
   ]
  },
  {
   "cell_type": "code",
   "execution_count": 223,
   "id": "76415f42",
   "metadata": {},
   "outputs": [
    {
     "data": {
      "text/plain": [
       "{2, 3, 7, 11, 13, 17, 19}"
      ]
     },
     "execution_count": 223,
     "metadata": {},
     "output_type": "execute_result"
    }
   ],
   "source": [
    "set4.symmetric_difference(set3)"
   ]
  },
  {
   "cell_type": "code",
   "execution_count": 224,
   "id": "763633ab",
   "metadata": {},
   "outputs": [
    {
     "data": {
      "text/plain": [
       "{2, 3, 7, 11, 13, 17, 19}"
      ]
     },
     "execution_count": 224,
     "metadata": {},
     "output_type": "execute_result"
    }
   ],
   "source": [
    "set3.union(set4)"
   ]
  },
  {
   "cell_type": "code",
   "execution_count": 225,
   "id": "4a62a5c3",
   "metadata": {
    "scrolled": false
   },
   "outputs": [
    {
     "data": {
      "text/plain": [
       "{3, 11}"
      ]
     },
     "execution_count": 225,
     "metadata": {},
     "output_type": "execute_result"
    }
   ],
   "source": [
    "set3"
   ]
  },
  {
   "cell_type": "code",
   "execution_count": 226,
   "id": "abf2ca69",
   "metadata": {},
   "outputs": [
    {
     "data": {
      "text/plain": [
       "{11, 3, 'e', 'l', 'm', 'n', 't'}"
      ]
     },
     "execution_count": 226,
     "metadata": {},
     "output_type": "execute_result"
    }
   ],
   "source": [
    "set3.update('element')\n",
    "set3"
   ]
  }
 ],
 "metadata": {
  "kernelspec": {
   "display_name": "Python 3 (ipykernel)",
   "language": "python",
   "name": "python3"
  },
  "language_info": {
   "codemirror_mode": {
    "name": "ipython",
    "version": 3
   },
   "file_extension": ".py",
   "mimetype": "text/x-python",
   "name": "python",
   "nbconvert_exporter": "python",
   "pygments_lexer": "ipython3",
   "version": "3.11.3"
  }
 },
 "nbformat": 4,
 "nbformat_minor": 5
}
