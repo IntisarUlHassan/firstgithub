{
 "cells": [
  {
   "cell_type": "code",
   "execution_count": null,
   "id": "055cab44",
   "metadata": {},
   "outputs": [],
   "source": [
    "import numpy as np"
   ]
  },
  {
   "cell_type": "code",
   "execution_count": null,
   "id": "5c4842a4",
   "metadata": {},
   "outputs": [],
   "source": [
    "import numpy as np\n",
    "a=np.arange(6)\n",
    "a2=a[np.newaxis, :]\n",
    "a2.shape"
   ]
  },
  {
   "cell_type": "code",
   "execution_count": null,
   "id": "6c400e29",
   "metadata": {
    "scrolled": true
   },
   "outputs": [],
   "source": [
    "a=np.array([4,4,4,4,4])\n",
    "a"
   ]
  },
  {
   "cell_type": "code",
   "execution_count": null,
   "id": "fa6d8597",
   "metadata": {},
   "outputs": [],
   "source": [
    "import numpy as array\n",
    "a=np.array([2,4,6]) #1 dimentional\n",
    "a"
   ]
  },
  {
   "cell_type": "code",
   "execution_count": null,
   "id": "20be0efd",
   "metadata": {},
   "outputs": [],
   "source": [
    "type(a)"
   ]
  },
  {
   "cell_type": "code",
   "execution_count": null,
   "id": "ccf67431",
   "metadata": {},
   "outputs": [],
   "source": [
    "#list of lists\n",
    "b=np.array([[2,2,2],     #3 dimentional\n",
    "          [2,2,2],\n",
    "          [2,2,2]])\n",
    "b"
   ]
  },
  {
   "cell_type": "markdown",
   "id": "8691d1e9",
   "metadata": {},
   "source": [
    "# 1-D Array:"
   ]
  },
  {
   "cell_type": "markdown",
   "id": "277fee2b",
   "metadata": {},
   "source": [
    "## A ***vector*** is an array with a single dimension\n",
    "### There's no difference between row and column vectors"
   ]
  },
  {
   "cell_type": "code",
   "execution_count": null,
   "id": "a1eec8cd",
   "metadata": {},
   "outputs": [],
   "source": [
    "import numpy as np\n",
    "a=np.array([3,4,5])\n",
    "a"
   ]
  },
  {
   "cell_type": "code",
   "execution_count": null,
   "id": "510a415b",
   "metadata": {},
   "outputs": [
    {
     "data": {
      "text/plain": [
       "numpy.ndarray"
      ]
     },
     "execution_count": 8,
     "metadata": {},
     "output_type": "execute_result"
    }
   ],
   "source": [
    "#type\n",
    "type(a)"
   ]
  },
  {
   "cell_type": "code",
   "execution_count": null,
   "id": "3d94d3c3",
   "metadata": {},
   "outputs": [
    {
     "data": {
      "text/plain": [
       "3"
      ]
     },
     "execution_count": 9,
     "metadata": {},
     "output_type": "execute_result"
    }
   ],
   "source": [
    "#length\n",
    "len(a)"
   ]
  },
  {
   "cell_type": "code",
   "execution_count": 10,
   "id": "634f1d03",
   "metadata": {},
   "outputs": [
    {
     "data": {
      "text/plain": [
       "5"
      ]
     },
     "execution_count": 10,
     "metadata": {},
     "output_type": "execute_result"
    }
   ],
   "source": [
    "#index\n",
    "a[2]"
   ]
  },
  {
   "cell_type": "code",
   "execution_count": 11,
   "id": "3945da62",
   "metadata": {
    "scrolled": true
   },
   "outputs": [
    {
     "data": {
      "text/plain": [
       "array([3, 4, 5])"
      ]
     },
     "execution_count": 11,
     "metadata": {},
     "output_type": "execute_result"
    }
   ],
   "source": [
    "a[0:]"
   ]
  },
  {
   "cell_type": "code",
   "execution_count": 12,
   "id": "3c97d51d",
   "metadata": {},
   "outputs": [
    {
     "data": {
      "text/plain": [
       "array([ 3,  7, 11, 15, 19])"
      ]
     },
     "execution_count": 12,
     "metadata": {},
     "output_type": "execute_result"
    }
   ],
   "source": [
    "import numpy as np\n",
    "a=np.array([3,7,11,15,19])\n",
    "a"
   ]
  },
  {
   "cell_type": "code",
   "execution_count": 13,
   "id": "dab031a8",
   "metadata": {},
   "outputs": [
    {
     "data": {
      "text/plain": [
       "array([0., 0., 0.])"
      ]
     },
     "execution_count": 13,
     "metadata": {},
     "output_type": "execute_result"
    }
   ],
   "source": [
    "#arrays with zeros with 3 elements\n",
    "b=np.zeros(3)\n",
    "b\n"
   ]
  },
  {
   "cell_type": "code",
   "execution_count": 14,
   "id": "52232b37",
   "metadata": {},
   "outputs": [
    {
     "data": {
      "text/plain": [
       "array([1., 1., 1., 1., 1.])"
      ]
     },
     "execution_count": 14,
     "metadata": {},
     "output_type": "execute_result"
    }
   ],
   "source": [
    "#array with 1s with 5 elements\n",
    "c=np.ones(5)\n",
    "c"
   ]
  },
  {
   "cell_type": "code",
   "execution_count": 15,
   "id": "40032bdc",
   "metadata": {},
   "outputs": [
    {
     "data": {
      "text/plain": [
       "array([0., 0., 0.])"
      ]
     },
     "execution_count": 15,
     "metadata": {},
     "output_type": "execute_result"
    }
   ],
   "source": [
    "#empty array with 3 elements\n",
    "d=np.empty(3)\n",
    "d"
   ]
  },
  {
   "cell_type": "code",
   "execution_count": 16,
   "id": "62a9ff35",
   "metadata": {
    "scrolled": true
   },
   "outputs": [
    {
     "data": {
      "text/plain": [
       "array([0, 1, 2, 3, 4, 5, 6, 7])"
      ]
     },
     "execution_count": 16,
     "metadata": {},
     "output_type": "execute_result"
    }
   ],
   "source": [
    "#with range of element\n",
    "e=np.arange(8)\n",
    "e"
   ]
  },
  {
   "cell_type": "code",
   "execution_count": null,
   "id": "9d5b8aae",
   "metadata": {},
   "outputs": [],
   "source": [
    "#with specific range of elements\n",
    "f=np.arange(3, 36)\n",
    "f"
   ]
  },
  {
   "cell_type": "code",
   "execution_count": null,
   "id": "eda05c55",
   "metadata": {},
   "outputs": [],
   "source": [
    "g=np.arange(3,36, 3)\n",
    "g"
   ]
  },
  {
   "cell_type": "code",
   "execution_count": null,
   "id": "4a62d65a",
   "metadata": {},
   "outputs": [],
   "source": [
    "#linearly spaced arrays\n",
    "h=np.linspace(0,15, num=6)\n",
    "h"
   ]
  },
  {
   "cell_type": "code",
   "execution_count": null,
   "id": "2a79b750",
   "metadata": {},
   "outputs": [],
   "source": [
    "#linearly spaced arrays\n",
    "h=np.linspace(0,15, num=10)\n",
    "h"
   ]
  },
  {
   "cell_type": "code",
   "execution_count": null,
   "id": "8c1e1dd4",
   "metadata": {
    "scrolled": true
   },
   "outputs": [],
   "source": [
    "#specific data type arrays\n",
    "i=np.ones(4, dtype=np.int64)\n",
    "i"
   ]
  },
  {
   "cell_type": "code",
   "execution_count": null,
   "id": "ec064560",
   "metadata": {
    "scrolled": true
   },
   "outputs": [],
   "source": [
    "j=np.zeros(7, dtype=np.float32)\n",
    "j"
   ]
  },
  {
   "cell_type": "markdown",
   "id": "f6d9bfaf",
   "metadata": {},
   "source": [
    "# 2-D Array:"
   ]
  },
  {
   "cell_type": "markdown",
   "id": "f2aba99f",
   "metadata": {},
   "source": [
    "## A ***matrix*** refers to an array with two dimensions"
   ]
  },
  {
   "cell_type": "code",
   "execution_count": null,
   "id": "03261919",
   "metadata": {},
   "outputs": [],
   "source": [
    "#an array with 2 axis/dimensions #(3 rows and 3 colums)\n",
    "\n",
    "import numpy as np\n",
    "b=np.array([[3,4,5],\n",
    "           [3,4,5],\n",
    "           [3,4,5]])\n",
    "b"
   ]
  },
  {
   "cell_type": "code",
   "execution_count": null,
   "id": "6f3c8546",
   "metadata": {},
   "outputs": [],
   "source": [
    "type(b)"
   ]
  },
  {
   "cell_type": "code",
   "execution_count": null,
   "id": "5c38b64c",
   "metadata": {},
   "outputs": [],
   "source": [
    "len(b)    # 3 lists in variable b"
   ]
  },
  {
   "cell_type": "code",
   "execution_count": null,
   "id": "4e345eed",
   "metadata": {},
   "outputs": [],
   "source": [
    "#index\n",
    "b[0]"
   ]
  },
  {
   "cell_type": "code",
   "execution_count": null,
   "id": "41d71161",
   "metadata": {},
   "outputs": [],
   "source": [
    "b[0 :]"
   ]
  },
  {
   "cell_type": "code",
   "execution_count": null,
   "id": "e2668182",
   "metadata": {
    "scrolled": true
   },
   "outputs": [],
   "source": [
    "a=np.zeros((4,3))\n",
    "a"
   ]
  },
  {
   "cell_type": "code",
   "execution_count": null,
   "id": "a5047985",
   "metadata": {
    "scrolled": true
   },
   "outputs": [],
   "source": [
    "b=np.ones((4,7))\n",
    "b"
   ]
  },
  {
   "cell_type": "code",
   "execution_count": null,
   "id": "93b98688",
   "metadata": {
    "scrolled": true
   },
   "outputs": [],
   "source": [
    "c= np.empty((3,4))\n",
    "c"
   ]
  },
  {
   "cell_type": "markdown",
   "id": "1929b5b9",
   "metadata": {},
   "source": [
    "# 3-D or higher arrays:"
   ]
  },
  {
   "cell_type": "markdown",
   "id": "e017d0c1",
   "metadata": {},
   "source": [
    "## For 3-D or higher dimentional arrays, the term *Tensor* is also commonly used"
   ]
  },
  {
   "cell_type": "code",
   "execution_count": null,
   "id": "47312dfe",
   "metadata": {
    "scrolled": true
   },
   "outputs": [],
   "source": [
    "nested_list = [[[1, 2, 3, 4], [5, 6, 7, 8], [9, 10, 11, 12]],\n",
    "               [[13, 14, 15, 16], [17, 18, 19, 20], [21, 22, 23, 24]]]\n",
    "a = np.array(nested_list)\n",
    "a"
   ]
  },
  {
   "cell_type": "code",
   "execution_count": null,
   "id": "a412cba6",
   "metadata": {
    "scrolled": false
   },
   "outputs": [],
   "source": [
    "#making and reshaping a 3D array\n",
    "b=np.arange(24).reshape(2,3,4)\n",
    "b"
   ]
  },
  {
   "cell_type": "code",
   "execution_count": null,
   "id": "fcf23458",
   "metadata": {},
   "outputs": [],
   "source": []
  }
 ],
 "metadata": {
  "kernelspec": {
   "display_name": "Python 3 (ipykernel)",
   "language": "python",
   "name": "python3"
  },
  "language_info": {
   "codemirror_mode": {
    "name": "ipython",
    "version": 3
   },
   "file_extension": ".py",
   "mimetype": "text/x-python",
   "name": "python",
   "nbconvert_exporter": "python",
   "pygments_lexer": "ipython3",
   "version": "3.11.3"
  }
 },
 "nbformat": 4,
 "nbformat_minor": 5
}
