{
 "cells": [
  {
   "cell_type": "markdown",
   "id": "1e8419b6",
   "metadata": {},
   "source": [
    "# Python Ka Chilla\n",
    "## Jupyter Note Book\n",
    "## Basics of Python\n",
    "\n",
    "### **01- First Program**"
   ]
  },
  {
   "cell_type": "code",
   "execution_count": 79,
   "id": "7eaa78a8",
   "metadata": {},
   "outputs": [
    {
     "name": "stdout",
     "output_type": "stream",
     "text": [
      "13\n",
      "hello_intisar\n",
      "intisar has completed his first lecture\n"
     ]
    }
   ],
   "source": [
    "print(6+7)\n",
    "print(\"hello_intisar\")\n",
    "print(\"intisar has completed his first lecture\")"
   ]
  },
  {
   "cell_type": "markdown",
   "id": "d5ca18c8",
   "metadata": {},
   "source": [
    "### **02- Operators**"
   ]
  },
  {
   "cell_type": "code",
   "execution_count": 80,
   "id": "a66da53c",
   "metadata": {
    "scrolled": true
   },
   "outputs": [
    {
     "name": "stdout",
     "output_type": "stream",
     "text": [
      "3\n",
      "1\n",
      "6\n",
      "2.0\n",
      "1\n",
      "3\n",
      "8\n",
      "19.0\n"
     ]
    }
   ],
   "source": [
    "print(2+1)\n",
    "print(3-2)\n",
    "print(2*3)\n",
    "print(8/4)\n",
    "print(9%2)\n",
    "print(6//2)\n",
    "print(2**3)\n",
    "print((2**3)/2*4+5-2)"
   ]
  },
  {
   "cell_type": "markdown",
   "id": "bc959f4a",
   "metadata": {},
   "source": [
    "**Operators work with PEMDAS rule from left to right.**"
   ]
  },
  {
   "cell_type": "markdown",
   "id": "875f9003",
   "metadata": {},
   "source": [
    "### **03- Strings**"
   ]
  },
  {
   "cell_type": "code",
   "execution_count": 81,
   "id": "6ee3a805",
   "metadata": {},
   "outputs": [
    {
     "name": "stdout",
     "output_type": "stream",
     "text": [
      "Test for single quotES\n",
      " test for double quotes   ?\n",
      " Test for tripple quotes  \n",
      "what's up ?\n",
      " Quaid-e-Azam said \"Unity is strength\" \n"
     ]
    }
   ],
   "source": [
    "print('Test for single quotES')\n",
    "print(\" test for double quotes   ?\")\n",
    "print(''' Test for tripple quotes  ''')\n",
    "print(\"what's up ?\")\n",
    "print(''' Quaid-e-Azam said \"Unity is strength\" ''')"
   ]
  },
  {
   "cell_type": "markdown",
   "id": "256dbbbc",
   "metadata": {},
   "source": [
    "### **04- Comments**"
   ]
  },
  {
   "cell_type": "code",
   "execution_count": 82,
   "id": "beadd828",
   "metadata": {
    "scrolled": true
   },
   "outputs": [
    {
     "name": "stdout",
     "output_type": "stream",
     "text": [
      "how are you? \n",
      "How're you doing  ?\n",
      " add # in command start to comment out\n",
      "press CTRL+/ to comment out\n",
      "12\n"
     ]
    }
   ],
   "source": [
    "print ('how are you? ')\n",
    "print (\"How're you doing  ?\")\n",
    "print (\" add # in command start to comment out\")\n",
    "print ('press CTRL+/ to comment out')\n",
    "print (5+7)"
   ]
  },
  {
   "cell_type": "markdown",
   "id": "121165a5",
   "metadata": {},
   "source": [
    "**Press CTRL+/ to comments out so it will not show in terminal.**"
   ]
  },
  {
   "cell_type": "markdown",
   "id": "8c559926",
   "metadata": {},
   "source": [
    "### **05- Variables**"
   ]
  },
  {
   "cell_type": "markdown",
   "id": "c7e7ec34",
   "metadata": {},
   "source": [
    "**Variables: are objects having specific values.**\n",
    "\n",
    "**Types of variables:**\n",
    "\n",
    "**1- Integers e.g. 9**\n",
    "\n",
    "**2- Strings e.g. \"You are a good boy.\"**\n",
    "\n",
    "**3- float e.g. 15.5**\n",
    "\n",
    "**Rules to assign a variable:**\n",
    "\n",
    "**1- The variable should contain numbers, letters(strings) or underscores.**\n",
    "\n",
    "**2- Donot start with numbers i.e. 2y=3**\n",
    "\n",
    "**3- Spaces are not allowed.**\n",
    "\n",
    "**4- Donot used functional keywords used in python i.e. break, mean, median.**\n",
    "\n",
    "**4a- Search functional keywords python on google.**\n",
    "\n",
    "**5- Short and descriptive.**\n",
    "\n",
    "**6- Case sensitivity (lowercase,uppercase) #lowercase should be used.**"
   ]
  },
  {
   "cell_type": "code",
   "execution_count": 83,
   "id": "b4c3c3b6",
   "metadata": {
    "scrolled": false
   },
   "outputs": [
    {
     "name": "stdout",
     "output_type": "stream",
     "text": [
      "9\n",
      "You are a good boy\n",
      "12\n",
      "15.5\n",
      "<class 'int'>\n",
      "<class 'str'>\n",
      "<class 'float'>\n",
      "mangoes, oranges\n",
      "5\n",
      "<class 'int'>\n"
     ]
    }
   ],
   "source": [
    "x=9\n",
    "print(x)\n",
    "\n",
    "y=\"You are a good boy\"\n",
    "print(y)\n",
    "\n",
    "x=12\n",
    "print(x) #variables work in descending order\n",
    "\n",
    "z=x+3+0.5\n",
    "print(z)\n",
    "\n",
    "#types of variables\n",
    "type(x)\n",
    "print(type(x))\n",
    "print(type(y))\n",
    "print(type(z))\n",
    "\n",
    "\n",
    "\n",
    "fruit_basket=\"mangoes, oranges\"\n",
    "print(fruit_basket)\n",
    "fruit_basket=5\n",
    "print(fruit_basket)\n",
    "#del fruit_basket\n",
    "#print(fruit_basket)\n",
    "\n",
    "print(type(fruit_basket))"
   ]
  },
  {
   "cell_type": "code",
   "execution_count": 84,
   "id": "374eaf31",
   "metadata": {},
   "outputs": [],
   "source": [
    "### **06- Input Variables**"
   ]
  },
  {
   "cell_type": "code",
   "execution_count": null,
   "id": "c8f5522f",
   "metadata": {
    "scrolled": false
   },
   "outputs": [],
   "source": [
    "fruit_basket=\"bananas\"\n",
    "print(fruit_basket)\n",
    "\n",
    "#input variables\n",
    "fruit_basket=input('what is your favorite fruit? ')\n",
    "print(fruit_basket)\n",
    "\n",
    "#input function of 2nd stage\n",
    "name= input(\"what's you name? \")\n",
    "greetings='Hello'\n",
    "print(greetings, name)\n",
    "#print(name, greetings)\n",
    "\n",
    "#another way of 2nd stage input variables\n",
    "print('Hello' , name)\n",
    "\n",
    "#3rd stage input variables\n",
    "name=input(\"what is your name? \")\n",
    "#job= input(\"what job you do? \")\n",
    "greetings='Hello!'\n",
    "\n",
    "print(greetings, name, \", you seem too young.\")"
   ]
  },
  {
   "cell_type": "code",
   "execution_count": null,
   "id": "dad2f5c0",
   "metadata": {},
   "outputs": [],
   "source": [
    "### **07- Conditional Logics**"
   ]
  },
  {
   "cell_type": "markdown",
   "id": "0c0b59e0",
   "metadata": {},
   "source": [
    "**Logical operators are either true/falue, yes/no or 0/1.**\n",
    "\n",
    "1- equal to                   ==\n",
    "\n",
    "2- not equal to               !=\n",
    "\n",
    "3- less than                  <\n",
    "\n",
    "4- greater than               >\n",
    "\n",
    "5- less than and equal to     <=\n",
    "\n",
    "6- greater than or equal to   >="
   ]
  },
  {
   "cell_type": "code",
   "execution_count": null,
   "id": "63071143",
   "metadata": {},
   "outputs": [],
   "source": [
    "print(4==4)\n",
    "print(4!=4)\n",
    "print(4>3)\n",
    "print(3<2)\n",
    "print(3<=3)\n",
    "print(5>=2)\n",
    "\n",
    "#applications of logical operators\n",
    "hammad_age=4\n",
    "minimum_age=5\n",
    "print(hammad_age==minimum_age)\n",
    "print(hammad_age<=minimum_age)\n",
    "\n",
    "#input_variable and conditional_logics\n",
    "minimum_age=5\n",
    "hammad_age=input(\"How old is Hammad? \")\n",
    "\n",
    "hammad_age=int(hammad_age)\n",
    "print(hammad_age==minimum_age)"
   ]
  },
  {
   "cell_type": "markdown",
   "id": "b11c8c6a",
   "metadata": {},
   "source": [
    "### **08- Type Conversion**"
   ]
  },
  {
   "cell_type": "code",
   "execution_count": null,
   "id": "cf5c923e",
   "metadata": {
    "scrolled": true
   },
   "outputs": [],
   "source": [
    "x=10             #integer\n",
    "y=10.2           #float\n",
    "z=\"Hello\"       #string \n",
    "\n",
    "print(type(x))\n",
    "print(type(y))\n",
    "print(type(z))\n",
    "\n",
    "#implicit type conversion\n",
    "a=x*y\n",
    "print(a)\n",
    "print(type(a))\n",
    "print(a, \", Type of a is:\", type(a))\n",
    "\n",
    "#explicit type integer\n",
    "age=input('what is your age? ')\n",
    "\n",
    "age=int(age)\n",
    "print(type(age))\n",
    "print(age, type(int(age)))\n",
    "\n",
    "print(age, type(str(age)))\n",
    "\n",
    "print(age, type(float(age)))\n",
    "\n",
    "#name\n",
    "name=input(\"what is your name? \")\n",
    "print(name, type(str(name)))\n",
    "\n"
   ]
  },
  {
   "cell_type": "markdown",
   "id": "8366e521",
   "metadata": {},
   "source": [
    "### **09- If, Else and Elif**"
   ]
  },
  {
   "cell_type": "code",
   "execution_count": null,
   "id": "383463e0",
   "metadata": {},
   "outputs": [],
   "source": [
    "required_age_at_school=5\n",
    "hammad_age=5\n",
    "\n",
    "#question= can hammad go to school\n",
    "\n",
    "if hammad_age==required_age_at_school:\n",
    "    print('Hammad can go to school.')\n",
    "elif hammad_age > required_age_at_school:\n",
    "    print('Hammad Should join higher school.')\n",
    "\n",
    "elif hammad_age==2:\n",
    "    print('hammad is still a baby.')\n",
    "\n",
    "else:\n",
    "    print(\"Hammad can't join the school\")"
   ]
  },
  {
   "cell_type": "markdown",
   "id": "6a42d916",
   "metadata": {},
   "source": [
    "### **10- Functions**"
   ]
  },
  {
   "cell_type": "code",
   "execution_count": null,
   "id": "0ccd371b",
   "metadata": {},
   "outputs": [],
   "source": [
    "print(\"I'm learning python with Ammar\")\n",
    "print(\"I'm learning python with Ammar\")\n",
    "print(\"I'm learning python with Ammar\")\n",
    "print(\"I'm learning python with Ammar\")\n",
    "print(\"I'm learning python with Ammar\")\n",
    "print(\"I'm learning python with Ammar\")\n",
    "\n",
    "#defining a function\n",
    "#method 1\n",
    "def print_codanics():\n",
    "     print(\"I'm learning python.\")\n",
    "     print(\"I'm learning python.\")\n",
    "     print(\"I'm learning python.\")\n",
    "print_codanics()\n",
    "\n",
    "\n",
    "#method 2\n",
    "def print_codanics():\n",
    "     text=(\"we're learning python.\")\n",
    "     print(text)\n",
    "     print(text)\n",
    "     print(text)\n",
    "     print(text)\n",
    "print_codanics()\n",
    "\n",
    "#method 3\n",
    "def print_codanics(text):\n",
    "     print(text)\n",
    "     print(text)\n",
    "     print(text)\n",
    "print_codanics(\"I'm trying my best to learn python.\")\n",
    "\n",
    "#defining a function with if, elif and else statements\n",
    "def hammad_calculator(age):\n",
    "     if age==5:\n",
    "         print(\"Hammad can join the school.\")\n",
    "     elif age>5:\n",
    "         print('Hammad could join higher school.')\n",
    "     else:\n",
    "         print('Hammad is too young to join the school.')\n",
    "hammad_calculator(5)\n",
    "\n",
    "def future_age(age):\n",
    "    new_age=age+20\n",
    "    print(new_age)\n",
    "\n",
    "future_predictive_age= future_age(12)"
   ]
  },
  {
   "cell_type": "markdown",
   "id": "468334e8",
   "metadata": {},
   "source": [
    "### **11- Loops**"
   ]
  },
  {
   "cell_type": "code",
   "execution_count": null,
   "id": "b0729720",
   "metadata": {},
   "outputs": [],
   "source": [
    "#while loops and #for loops\n",
    "\n",
    "#while loops\n",
    "x=2\n",
    "while (x<=7):\n",
    "    print(x)\n",
    "    x=x+1\n",
    "\n",
    "#For loops\n",
    "for x in range(4,12):\n",
    "    print(x)\n",
    "\n",
    "#array\n",
    "\n",
    "days= [\"Mon, Tue, Wed, Thu, Fri, Sat, Sun\"]\n",
    "for d in days:\n",
    "    print(d)\n",
    "\n",
    "days= [\"Mon\", \"Tue\", \"Wed\", \"Thu\", \"Fri\", \"Sat\", \"Sun\"]\n",
    "for d in days:\n",
    "    print(d)\n",
    "\n",
    "days= [\"Mon\", \"Tue\", \"Wed\", \"Thu\", \"Fri\", \"Sat\", \"Sun\"]\n",
    "for r in days:\n",
    "    print(r)\n",
    "\n",
    "days= [\"Mon\", \"Tue\", \"Wed\", \"Thu\", \"Fri\", \"Sat\", \"Sun\"]\n",
    "for d in days:\n",
    "    if d==\"Fri\":break #loop stops\n",
    "    print(d)\n",
    "\n",
    "days= [\"Mon\", \"Tue\", \"Wed\", \"Thu\", \"Fri\", \"Sat\", \"Sun\"]\n",
    "for d in days:\n",
    "    if d==\"Thu\":continue #skips the day\n",
    "    print(d)"
   ]
  },
  {
   "cell_type": "markdown",
   "id": "2bf84875",
   "metadata": {},
   "source": [
    "### **12- Import Libraries**"
   ]
  },
  {
   "cell_type": "code",
   "execution_count": null,
   "id": "96c20510",
   "metadata": {},
   "outputs": [],
   "source": [
    "#if you want to print the value of pi\n",
    "\n",
    "import math\n",
    "print(\"The value of pi is\", math.pi)\n",
    "\n",
    "import statistics\n",
    "x=[150,250,350,450]\n",
    "print(statistics.mean(x))\n",
    "print(statistics.median(x))\n"
   ]
  },
  {
   "cell_type": "markdown",
   "id": "02b1dd69",
   "metadata": {},
   "source": [
    "### **13- Trouble Shooting**"
   ]
  },
  {
   "cell_type": "code",
   "execution_count": null,
   "id": "e7a9712f",
   "metadata": {},
   "outputs": [],
   "source": [
    "#print(we are learning python.) #syntax error\n",
    "print(\"We are learning python.\") #correct way\n",
    "\n",
    "#print(25/0) #runtime error #divide by 0 not possible\n",
    "\n",
    "name= \"Intisar\"\n",
    "#print(Hello name)  #sematic error\n",
    "print(\"Hello\", name)\n",
    "print(\"Hello\"+ name) #add + sign if space is not required\n",
    "print(\"Hello \"+ name)"
   ]
  }
 ],
 "metadata": {
  "kernelspec": {
   "display_name": "Python 3 (ipykernel)",
   "language": "python",
   "name": "python3"
  },
  "language_info": {
   "codemirror_mode": {
    "name": "ipython",
    "version": 3
   },
   "file_extension": ".py",
   "mimetype": "text/x-python",
   "name": "python",
   "nbconvert_exporter": "python",
   "pygments_lexer": "ipython3",
   "version": "3.11.3"
  }
 },
 "nbformat": 4,
 "nbformat_minor": 5
}
